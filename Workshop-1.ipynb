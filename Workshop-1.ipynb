{
 "cells": [
  {
   "cell_type": "code",
   "execution_count": 8,
   "id": "211789b9",
   "metadata": {},
   "outputs": [
    {
     "name": "stdout",
     "output_type": "stream",
     "text": [
      "How many participants are allowed to attend? \n",
      "1\n",
      "What is the minimum age for attendees? \n",
      "20\n",
      "Enter the name: \n",
      "Jack\n",
      "Enter the major: \n",
      "Methods\n",
      "In which year were you born? \n",
      "1995\n",
      "Jack Registered successfully. your ID is: 1\n",
      "Jack\n",
      "Methods\n",
      "26\n",
      "1 Students were registered successfully\n",
      "Jack Methods 26 \n",
      "\n"
     ]
    }
   ],
   "source": [
    "#Simple attendants registration app:\n",
    "\n",
    "#capture the number of users allowed\n",
    "ptpNumber = int(input(\"How many participants are allowed to attend? \\n\"))\n",
    "minAge = int(input(\"What is the minimum age for attendees? \\n\"))\n",
    "\n",
    "#List to store the participants\n",
    "participants = []\n",
    "\n",
    "#Let's keep the initial value of the participarts 0\n",
    "initialMembers = 0\n",
    "\n",
    "curYr = 2021\n",
    "\n",
    "#Open up the external file to write to:\n",
    "ptpOutFile = open(\"Participants\", \"w\")\n",
    "\n",
    "while(initialMembers < ptpNumber):\n",
    "    #A temporally list to keep the details:\n",
    "    tempData = [] #Keeps the name, major and age\n",
    "    #Capture the name\n",
    "    name = input(\"Enter the name: \\n\")     \n",
    "    major = input(\"Enter the major: \\n\")\n",
    "    yob = int(input(\"In which year were you born? \\n\"))\n",
    "    age = curYr - yob\n",
    "    if age > minAge:\n",
    "        #Add the name to the temp list.\n",
    "        tempData.append(name)\n",
    "        tempData.append(major)\n",
    "        tempData.append(age)\n",
    "        #Add tempData to the Participants' list and increase the counter by 1\n",
    "        participants.append(tempData)\n",
    "        initialMembers +=1 \n",
    "        print(name + \" Registered successfully. your ID is: \" + str(initialMembers))\n",
    "        \n",
    "        for student in tempData:\n",
    "            print(student)\n",
    "            #\"Name: \\n\" +student[0] + \" Major: \\n\" + student[1] + \" Age: \\n\" +str(student[2])\n",
    "    else:\n",
    "        print(\"sorry, \" + name + \" you are under age.\")\n",
    "    \n",
    "#Write everything to the external file:\n",
    "#Each participant is kept in the list.\n",
    "for participant in participants:\n",
    "    #loop over the students' data\n",
    "    for study in participant:\n",
    "        ptpOutFile.write(str(study)) #Convert everything into a string before writting\n",
    "        #Provide some space\n",
    "        ptpOutFile.write(\" \")\n",
    "    #Add each participant to a new file:\n",
    "    ptpOutFile.write(\"\\n\")\n",
    "print(str(initialMembers) + \" Students were registered successfully\")\n",
    "#Close the external file.\n",
    "ptpOutFile.close()\n",
    "\n",
    "#Reading the names in the file:\n",
    "ptpFile = open(\"Participants\", \"r\")\n",
    "for line in ptpFile:\n",
    "    print(line)\n",
    "\n",
    "ptpFile.close()"
   ]
  }
 ],
 "metadata": {
  "kernelspec": {
   "display_name": "Python 3",
   "language": "python",
   "name": "python3"
  },
  "language_info": {
   "codemirror_mode": {
    "name": "ipython",
    "version": 3
   },
   "file_extension": ".py",
   "mimetype": "text/x-python",
   "name": "python",
   "nbconvert_exporter": "python",
   "pygments_lexer": "ipython3",
   "version": "3.8.8"
  }
 },
 "nbformat": 4,
 "nbformat_minor": 5
}
